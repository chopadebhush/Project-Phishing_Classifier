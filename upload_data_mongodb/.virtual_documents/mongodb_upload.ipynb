pip install pymongo


import os


from database_connect.databases.mongodb import MongoIO as mongo









