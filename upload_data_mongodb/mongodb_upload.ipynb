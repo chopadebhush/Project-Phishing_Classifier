{
 "cells": [
  {
   "cell_type": "code",
   "execution_count": 5,
   "id": "651c773c-8b02-40b9-877f-f32bda7a7764",
   "metadata": {},
   "outputs": [
    {
     "name": "stdout",
     "output_type": "stream",
     "text": [
      "Collecting pymongo\n",
      "  Downloading pymongo-4.8.0-cp39-cp39-win_amd64.whl.metadata (22 kB)\n",
      "Collecting dnspython<3.0.0,>=1.16.0 (from pymongo)\n",
      "  Using cached dnspython-2.6.1-py3-none-any.whl.metadata (5.8 kB)\n",
      "Downloading pymongo-4.8.0-cp39-cp39-win_amd64.whl (533 kB)\n",
      "   ---------------------------------------- 0.0/533.1 kB ? eta -:--:--\n",
      "    --------------------------------------- 10.2/533.1 kB ? eta -:--:--\n",
      "    --------------------------------------- 10.2/533.1 kB ? eta -:--:--\n",
      "   -- ------------------------------------ 30.7/533.1 kB 262.6 kB/s eta 0:00:02\n",
      "   ------ -------------------------------- 92.2/533.1 kB 581.0 kB/s eta 0:00:01\n",
      "   -------------------- ------------------- 276.5/533.1 kB 1.4 MB/s eta 0:00:01\n",
      "   --------------------------------- ------ 440.3/533.1 kB 1.8 MB/s eta 0:00:01\n",
      "   ---------------------------------------- 533.1/533.1 kB 2.0 MB/s eta 0:00:00\n",
      "Using cached dnspython-2.6.1-py3-none-any.whl (307 kB)\n",
      "Installing collected packages: dnspython, pymongo\n",
      "Successfully installed dnspython-2.6.1 pymongo-4.8.0\n",
      "Note: you may need to restart the kernel to use updated packages.\n"
     ]
    }
   ],
   "source": [
    "pip install pymongo"
   ]
  },
  {
   "cell_type": "code",
   "execution_count": 5,
   "id": "58af7162-e4fa-4aea-bb6a-d2e6d08875a0",
   "metadata": {},
   "outputs": [],
   "source": [
    "import os"
   ]
  },
  {
   "cell_type": "code",
   "execution_count": 6,
   "id": "7be9ee7f-98fe-4ede-9ab9-0e78d9d547b2",
   "metadata": {},
   "outputs": [
    {
     "ename": "ModuleNotFoundError",
     "evalue": "No module named 'database_connect'",
     "output_type": "error",
     "traceback": [
      "\u001b[1;31m---------------------------------------------------------------------------\u001b[0m",
      "\u001b[1;31mModuleNotFoundError\u001b[0m                       Traceback (most recent call last)",
      "Cell \u001b[1;32mIn[6], line 1\u001b[0m\n\u001b[1;32m----> 1\u001b[0m \u001b[38;5;28;01mfrom\u001b[39;00m \u001b[38;5;21;01mdatabase_connect\u001b[39;00m\u001b[38;5;21;01m.\u001b[39;00m\u001b[38;5;21;01mdatabases\u001b[39;00m\u001b[38;5;21;01m.\u001b[39;00m\u001b[38;5;21;01mmongodb\u001b[39;00m \u001b[38;5;28;01mimport\u001b[39;00m MongoIO \u001b[38;5;28;01mas\u001b[39;00m mongo\n",
      "\u001b[1;31mModuleNotFoundError\u001b[0m: No module named 'database_connect'"
     ]
    }
   ],
   "source": [
    "from database_connect.databases.mongodb import MongoIO as mongo"
   ]
  },
  {
   "cell_type": "code",
   "execution_count": null,
   "id": "c47f8814-d136-4413-8832-7951e31a50a0",
   "metadata": {},
   "outputs": [],
   "source": []
  },
  {
   "cell_type": "code",
   "execution_count": null,
   "id": "b4c813d3-adc4-494f-be1b-1686e1ec6519",
   "metadata": {},
   "outputs": [],
   "source": []
  },
  {
   "cell_type": "code",
   "execution_count": null,
   "id": "a38ae8eb-079f-4a6f-bb48-721c9290377b",
   "metadata": {},
   "outputs": [],
   "source": []
  }
 ],
 "metadata": {
  "kernelspec": {
   "display_name": "Python 3 (ipykernel)",
   "language": "python",
   "name": "python3"
  },
  "language_info": {
   "codemirror_mode": {
    "name": "ipython",
    "version": 3
   },
   "file_extension": ".py",
   "mimetype": "text/x-python",
   "name": "python",
   "nbconvert_exporter": "python",
   "pygments_lexer": "ipython3",
   "version": "3.9.19"
  }
 },
 "nbformat": 4,
 "nbformat_minor": 5
}
